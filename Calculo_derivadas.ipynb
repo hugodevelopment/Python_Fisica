{
  "cells": [
    {
      "cell_type": "markdown",
      "metadata": {},
      "source": [
        "Referências: 1º https://edisciplinas.usp.br/pluginfile.php/6909091/mod_resource/content/0/Lab2%20-%20Computa%C3%A7%C3%A3o%20Simb%C3%B3lica.pdf"
      ]
    },
    {
      "cell_type": "code",
      "execution_count": null,
      "metadata": {
        "colab": {
          "base_uri": "https://localhost:8080/"
        },
        "id": "BpK7EB38Yk-c",
        "outputId": "61d8f598-8d81-4585-a7cf-21df063cc5c8"
      },
      "outputs": [
        {
          "name": "stdout",
          "output_type": "stream",
          "text": [
            "1/(Lo*deltaT)\n"
          ]
        }
      ],
      "source": [
        "import sympy as sp\n",
        "\n",
        "deltaL,Lo,deltaT,coef_linear = sp.symbols('deltaL,Lo,deltaT,coef_linear')\n",
        "\n",
        "\n",
        "# Defina a expressão para alpha\n",
        "alpha_expr = deltaL / (Lo * deltaT)\n",
        "\n",
        "\n",
        "# Calcule a primeira derivada parcial de alpha em relação a DeltaL\n",
        "derivada_parcial_deltaL = sp.diff(alpha_expr, deltaL)\n",
        "\n",
        "# Exiba o resultado\n",
        "print(derivada_parcial_deltaL)"
      ]
    },
    {
      "cell_type": "code",
      "execution_count": null,
      "metadata": {
        "colab": {
          "base_uri": "https://localhost:8080/"
        },
        "id": "hzeyEeM_cptH",
        "outputId": "556041fe-2fe1-4a7d-bd55-e2ac72dabc6f"
      },
      "outputs": [
        {
          "name": "stdout",
          "output_type": "stream",
          "text": [
            "3.71816322736568e-5\n",
            "1/(Lo*deltaT)\n"
          ]
        }
      ],
      "source": [
        "import sympy as sp\n",
        "\n",
        "# Defina as variáveis simbólicas\n",
        "deltaL, Lo, deltaT, coef_linear = sp.symbols('deltaL Lo deltaT coef_linear')\n",
        "\n",
        "# Crie uma expressão matemática com base nas variáveis simbólicas\n",
        "alpha_expr = deltaL / (Lo * deltaT)\n",
        "\n",
        "# Substitua os valores numéricos na expressão\n",
        "alpha_value = alpha_expr.subs({deltaL: 0.6, Lo: 489, deltaT: 33})\n",
        "\n",
        "# Exiba o resultado numérico\n",
        "print(alpha_value)\n",
        "\n",
        "# Calcule a primeira derivada parcial de alpha em relação a DeltaL\n",
        "derivada_parcial_deltaL = sp.diff(alpha_expr, deltaL)\n",
        "derivada_parcial_2 = derivada_parcial_deltaL.subs({alpha_expr:2,deltaL:23})\n",
        "\n",
        "# Exiba o resultado\n",
        "print(derivada_parcial_2)\n"
      ]
    },
    {
      "cell_type": "code",
      "execution_count": null,
      "metadata": {
        "colab": {
          "base_uri": "https://localhost:8080/"
        },
        "id": "x6vRGYxPeaR9",
        "outputId": "a4d8cacf-83ba-4f9f-d8a1-f5c7c173a755"
      },
      "outputs": [
        {
          "name": "stdout",
          "output_type": "stream",
          "text": [
            "1/16137\n"
          ]
        }
      ],
      "source": [
        "import sympy as sp\n",
        "\n",
        "# Defina as variáveis simbólicas\n",
        "deltaL, Lo, deltaT, alpha = sp.symbols('deltaL Lo deltaT alpha')\n",
        "\n",
        "# Defina a expressão para alpha\n",
        "alpha_expr = deltaL / (Lo * deltaT)\n",
        "\n",
        "# Calcule a primeira derivada parcial de alpha em relação a DeltaL\n",
        "derivada_parcial_deltaL = sp.diff(alpha_expr, deltaL)\n",
        "\n",
        "# Avalie a derivada no ponto específico\n",
        "valor_da_derivada_em_ponto = derivada_parcial_deltaL.subs({deltaL: 0.6, Lo: 489, deltaT: 33})\n",
        "\n",
        "# Exiba o resultado\n",
        "print(valor_da_derivada_em_ponto)\n"
      ]
    },
    {
      "cell_type": "code",
      "execution_count": null,
      "metadata": {
        "colab": {
          "base_uri": "https://localhost:8080/"
        },
        "id": "RAwknAxZfeiS",
        "outputId": "8f69b864-52ae-45a8-e622-8adffa4f8265"
      },
      "outputs": [
        {
          "name": "stdout",
          "output_type": "stream",
          "text": [
            "29\n"
          ]
        }
      ],
      "source": [
        "import sympy as sp\n",
        "\n",
        "# Defina as variáveis simbólicas\n",
        "x, y, z = sp.symbols('x y z')\n",
        "\n",
        "# Defina a expressão\n",
        "expr = x**2 + y**2 + z**2\n",
        "\n",
        "# Crie uma lista de substituições (pares variável -> valor)\n",
        "substituicoes = [(x, 2), (y, 3), (z, 4)]\n",
        "\n",
        "# Use a função map para aplicar as substituições à expressão\n",
        "expr_substituida = expr.subs(substituicoes)\n",
        "\n",
        "# Exiba o resultado\n",
        "print(expr_substituida)\n"
      ]
    }
  ],
  "metadata": {
    "colab": {
      "provenance": []
    },
    "kernelspec": {
      "display_name": "Python 3",
      "name": "python3"
    },
    "language_info": {
      "name": "python"
    }
  },
  "nbformat": 4,
  "nbformat_minor": 0
}
