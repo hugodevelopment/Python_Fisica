{
  "nbformat": 4,
  "nbformat_minor": 0,
  "metadata": {
    "colab": {
      "provenance": []
    },
    "kernelspec": {
      "name": "python3",
      "display_name": "Python 3"
    },
    "language_info": {
      "name": "python"
    }
  },
  "cells": [
    {
      "cell_type": "markdown",
      "source": [],
      "metadata": {
        "id": "GAGukHfvBSL6"
      }
    },
    {
      "cell_type": "code",
      "source": [
        "import sympy as sp\n",
        "\n",
        "# Defina as variáveis simbólicas\n",
        "deltaL, Lo, deltaT, alpha = sp.symbols('deltaL Lo deltaT alpha')\n",
        "\n",
        "# Defina a expressão para alpha\n",
        "alpha_expr = deltaL / (Lo * deltaT)\n",
        "\n",
        "# Calcule a primeira derivada parcial de alpha em relação a DeltaL\n",
        "derivada_parcial_deltaL = sp.diff(alpha_expr, deltaL)\n",
        "\n",
        "# Exiba o resultado\n",
        "print(derivada_parcial_deltaL)\n"
      ],
      "metadata": {
        "colab": {
          "base_uri": "https://localhost:8080/"
        },
        "id": "x6vRGYxPeaR9",
        "outputId": "d23e67f8-3e3c-4d7c-dd8a-191e1d9e17f7"
      },
      "execution_count": null,
      "outputs": [
        {
          "output_type": "stream",
          "name": "stdout",
          "text": [
            "1/(Lo*deltaT)\n"
          ]
        }
      ]
    },
    {
      "cell_type": "markdown",
      "source": [
        "**Testando aumotizar os cálculos direto do excel**"
      ],
      "metadata": {
        "id": "YsxeE2QtGlGY"
      }
    },
    {
      "cell_type": "code",
      "source": [
        "\n",
        "import sympy as sp\n",
        "import pandas as pd\n",
        "\n",
        "\n",
        "dados = pd.read_excel('dados.xlsx')\n",
        "\n",
        "# Defina as variáveis simbólicas\n",
        "x, y, z = sp.symbols('x y z')\n",
        "\n",
        "# Defina a expressão\n",
        "expr = x**2 + y**2 + z**2\n",
        "\n",
        "\n",
        "# Obtenha os valores do array para substituição\n",
        "coluna1 = dados['x'].values\n",
        "print(coluna1)\n",
        "y_valor = dados['y'].values\n",
        "print(y_valor)\n",
        "\n",
        "# Substitua os valores diretamente na expressão\n",
        "expr_substituida = expr.subs({x: coluna1[0], y: y_valor[0], z: 4})\n",
        "print(expr_substituida)"
      ],
      "metadata": {
        "colab": {
          "base_uri": "https://localhost:8080/"
        },
        "id": "2JlML0gJCiqn",
        "outputId": "99fc2d4f-327f-4fc8-ae6d-152b4605ad3c"
      },
      "execution_count": null,
      "outputs": [
        {
          "output_type": "stream",
          "name": "stdout",
          "text": [
            "[1 2 3]\n",
            "[3 4 5]\n",
            "26\n"
          ]
        }
      ]
    },
    {
      "cell_type": "markdown",
      "source": [
        "Vou aplicar isso para as derivadas"
      ],
      "metadata": {
        "id": "6bVWqXFaG1F2"
      }
    },
    {
      "cell_type": "code",
      "source": [
        "import pandas as pd\n",
        "import sympy as sp\n",
        "\n",
        "# Carregue o arquivo Excel\n",
        "dados2 = pd.read_excel('dados2.xlsx')\n",
        "\n",
        "# Transforme os dados em um dicionário\n",
        "dados_dict = dict(zip(dados2['variavel'], dados2['valor']))\n",
        "\n",
        "# Exiba o dicionário\n",
        "print(dados_dict)\n",
        "\n",
        "\n",
        "# Defina as variáveis simbólicas\n",
        "deltaL, Lo, deltaT, alpha = sp.symbols('deltaL Lo deltaT alpha')\n",
        "\n",
        "# Defina a expressão para alpha\n",
        "alpha_expr = deltaL / (Lo * deltaT)\n",
        "\n",
        "# Calcule a primeira derivada parcial de alpha em relação a DeltaL\n",
        "derivada_deltaL = sp.diff(alpha_expr, deltaL)\n",
        "\n",
        "# Avalie a derivada no ponto específico\n",
        "valor_da_derivada_em_ponto = derivada_deltaL.subs(dados_dict)\n",
        "\n",
        "# Exiba o resultado\n",
        "print(\"oi\",valor_da_derivada_em_ponto)"
      ],
      "metadata": {
        "colab": {
          "base_uri": "https://localhost:8080/"
        },
        "id": "V9wziuiJG0E_",
        "outputId": "57012cbb-f50f-469b-9017-3e410c69cd20"
      },
      "execution_count": 2,
      "outputs": [
        {
          "output_type": "stream",
          "name": "stdout",
          "text": [
            "{'deltaL': 0.23, 'Lo': 22.0, 'deltaT': 25.0, 'alpha': 0.00027}\n",
            "oi 0.00181818181818182\n"
          ]
        }
      ]
    }
  ]
}