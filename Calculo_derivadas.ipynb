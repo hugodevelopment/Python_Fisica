{
  "nbformat": 4,
  "nbformat_minor": 0,
  "metadata": {
    "colab": {
      "provenance": []
    },
    "kernelspec": {
      "name": "python3",
      "display_name": "Python 3"
    },
    "language_info": {
      "name": "python"
    }
  },
  "cells": [
    {
      "cell_type": "markdown",
      "source": [
        "**A ideia é automatizar os cálculos utilizando pandas e sumpy e assim calcular as derivadas parciais e as incertezas de forma automatizada para o relatório de dilatação**"
      ],
      "metadata": {
        "id": "GAGukHfvBSL6"
      }
    },
    {
      "cell_type": "markdown",
      "source": [
        "**Testando aumotizar os cálculos direto do excel**"
      ],
      "metadata": {
        "id": "YsxeE2QtGlGY"
      }
    },
    {
      "cell_type": "code",
      "source": [
        "\n",
        "import sympy as sp\n",
        "import pandas as pd\n",
        "\n",
        "\n",
        "dados = pd.read_excel('dados.xlsx')\n",
        "\n",
        "# Defina as variáveis simbólicas\n",
        "x, y, z = sp.symbols('x y z')\n",
        "\n",
        "# Defina a expressão\n",
        "expr = x**2 + y**2 + z**2\n",
        "\n",
        "\n",
        "# Obtenha os valores do array para substituição\n",
        "coluna1 = dados['x'].values\n",
        "print(coluna1)\n",
        "y_valor = dados['y'].values\n",
        "print(y_valor)\n",
        "\n",
        "# Substitua os valores diretamente na expressão\n",
        "expr_substituida = expr.subs({x: coluna1[0], y: y_valor[0], z: 4})\n",
        "print(\"fazendo direto pelo excel\",expr_substituida)"
      ],
      "metadata": {
        "colab": {
          "base_uri": "https://localhost:8080/"
        },
        "id": "2JlML0gJCiqn",
        "outputId": "8b2ef8fd-b3d6-4381-d072-05255e7d2bfc"
      },
      "execution_count": 67,
      "outputs": [
        {
          "output_type": "stream",
          "name": "stdout",
          "text": [
            "[1 2 3 4 5]\n",
            "[5 6 7 8 9]\n",
            "fazendo direto pelo excel 42\n"
          ]
        }
      ]
    },
    {
      "cell_type": "markdown",
      "source": [
        "**O 1º passo é utilizar os dados já do excel para importar e já deixar os cálculos prontos. Para isso irei utilizar o formato dict(zip)**"
      ],
      "metadata": {
        "id": "6bVWqXFaG1F2"
      }
    },
    {
      "cell_type": "code",
      "source": [
        "import pandas as pd\n",
        "import sympy as sp\n",
        "\n",
        "# Carregue o arquivo Excel\n",
        "dados2 = pd.read_excel('dados2.xlsx')\n",
        "\n",
        "# Transforme os dados em um dicionário\n",
        "dados_dict = dict(zip(dados2['variavel'], dados2['valor']))\n",
        "\n",
        "# Exiba o dicionário\n",
        "print(\"dicionarios dos dados em excel\", dados_dict)\n",
        "\n",
        "# Defina as variáveis simbólicas\n",
        "deltaL, Lo, deltaT, alpha = sp.symbols('deltaL Lo deltaT alpha')"
      ],
      "metadata": {
        "colab": {
          "base_uri": "https://localhost:8080/"
        },
        "id": "V9wziuiJG0E_",
        "outputId": "c754a347-c0c9-4c76-b813-de2bed1b790c"
      },
      "execution_count": 60,
      "outputs": [
        {
          "output_type": "stream",
          "name": "stdout",
          "text": [
            "dicionarios dos dados em excel {'deltaL': 0.29, 'Lo': 22.0, 'deltaT': 25.0, 'alpha': 0.00027, 'incertezadeltaL': 0.0008, 'incertezadeltaLo': 0.01, 'incertezadeltaT': 0.1, 'incerteza_To': 0.1, 'incerteza_Tf': 0.2, 'alpha_teorico': 2.3e-05}\n"
          ]
        }
      ]
    },
    {
      "cell_type": "markdown",
      "source": [
        "**Já tendo os dados em excel em formato dicionário, agora irei calcular o coeficiente linear e depois a primeira derivada parcial para DeltaT**"
      ],
      "metadata": {
        "id": "-VW4qXyLPBiP"
      }
    },
    {
      "cell_type": "code",
      "source": [
        "# Defina a expressão para alpha\n",
        "alpha_expr = deltaL / (Lo * deltaT)\n",
        "alpha = alpha_expr.subs(dados_dict)\n",
        "print(\"coef_linear\",alpha)\n",
        "\n",
        "# Calcule a primeira derivada parcial de alpha em relação a DeltaL\n",
        "derivada_deltaL = sp.diff(alpha_expr, deltaL)\n",
        "print(\"derivada parcial para deltaL:\", derivada_deltaL)\n",
        "\n",
        "# Avalie a derivada no ponto específico\n",
        "valor_da_derivada_deltaL = derivada_deltaL.subs(dados_dict)\n",
        "\n",
        "# Exiba o resultado\n",
        "print(\"calculando a derivada com os dados em excel\",valor_da_derivada_deltaL)"
      ],
      "metadata": {
        "colab": {
          "base_uri": "https://localhost:8080/"
        },
        "id": "klFsd5OEvdFV",
        "outputId": "b25bc558-f851-4924-9e95-029f31157724"
      },
      "execution_count": 68,
      "outputs": [
        {
          "output_type": "stream",
          "name": "stdout",
          "text": [
            "coef_linear 0.000527272727272727\n",
            "derivada parcial para deltaL: 1/(Lo*deltaT)\n",
            "calculando a derivada com os dados em excel 0.00181818181818182\n"
          ]
        }
      ]
    },
    {
      "cell_type": "markdown",
      "source": [
        "**Agora irei calcular a Derivada parcial para Lo**"
      ],
      "metadata": {
        "id": "TVYE4oeI6eoc"
      }
    },
    {
      "cell_type": "code",
      "source": [
        "\n",
        "# Defina a expressão para alpha\n",
        "alpha_expr = deltaL / (Lo * deltaT)\n",
        "\n",
        "\n",
        "# Calcule a primeira derivada parcial de alpha em relação a DeltaL\n",
        "derivada_Lo = sp.diff(alpha_expr, Lo)\n",
        "print(\"derivada parcial para deltaL:\", derivada_Lo)\n",
        "\n",
        "# Avalie a derivada no ponto específico\n",
        "valor_da_derivada_Lo = derivada_Lo.subs(dados_dict)\n",
        "\n",
        "# Exiba o resultado\n",
        "print(\"calculando a derivada com os dados em excel\",valor_da_derivada_Lo)"
      ],
      "metadata": {
        "colab": {
          "base_uri": "https://localhost:8080/"
        },
        "id": "VS_dVmtH6dTB",
        "outputId": "07cf7f25-24fe-4c70-e6ca-4cf4a061bc14"
      },
      "execution_count": 14,
      "outputs": [
        {
          "output_type": "stream",
          "name": "stdout",
          "text": [
            "derivada parcial para deltaL: -deltaL/(Lo**2*deltaT)\n",
            "calculando a derivada com os dados em excel -2.39669421487603e-5\n"
          ]
        }
      ]
    },
    {
      "cell_type": "markdown",
      "source": [
        "**Derivada parcial para DeltaT**"
      ],
      "metadata": {
        "id": "j7zQ3DXB7Miy"
      }
    },
    {
      "cell_type": "code",
      "source": [
        "# Defina a expressão para alpha\n",
        "alpha_expr = deltaL / (Lo * deltaT)\n",
        "\n",
        "# Calcule a primeira derivada parcial de alpha em relação a DeltaL\n",
        "derivada_deltaT = sp.diff(alpha_expr, deltaT)\n",
        "print(\"derivada parcial para deltaL:\", derivada_deltaT)\n",
        "\n",
        "# Avalie a derivada no ponto específico\n",
        "valor_da_derivada_deltaT = derivada_deltaT.subs(dados_dict)\n",
        "\n",
        "# Exiba o resultado\n",
        "print(\"calculando a derivada com os dados em excel\",valor_da_derivada_deltaT)"
      ],
      "metadata": {
        "colab": {
          "base_uri": "https://localhost:8080/"
        },
        "id": "_YroYgF97W5s",
        "outputId": "7baa960e-1898-4f58-c9b6-77325c51e642"
      },
      "execution_count": 15,
      "outputs": [
        {
          "output_type": "stream",
          "name": "stdout",
          "text": [
            "derivada parcial para deltaL: -deltaL/(Lo*deltaT**2)\n",
            "calculando a derivada com os dados em excel -2.10909090909091e-5\n"
          ]
        }
      ]
    },
    {
      "cell_type": "markdown",
      "source": [
        "**Já tendo os valores da derivada parciais, agora tenho que utilizar a formula da propagação de erros com as incertezas de L, Lo e T.\n",
        "Aproveitando também para calcular a incerteza da temperatura e o erro percentual**"
      ],
      "metadata": {
        "id": "IiuddaNS8_Yq"
      }
    },
    {
      "cell_type": "code",
      "source": [
        "import numpy as np\n",
        "\n",
        "# Acesse diretamente os valores das incertezas do dicionário\n",
        "incerteza_deltaL = dados_dict['incertezadeltaL']\n",
        "incerteza_deltaLo = dados_dict['incertezadeltaLo']\n",
        "incerteza_deltaT = dados_dict['incertezadeltaT']\n",
        "incerteza_To = dados_dict[\"incerteza_To\"]\n",
        "incerteza_Tf = dados_dict[\"incerteza_Tf\"]\n",
        "alpha_teorico = dados_dict[\"alpha_teorico\"]\n",
        "\n",
        "\n",
        "# Crie uma função lambda para calcular a incerteza de alpha\n",
        "calcular_incerteza_alpha = lambda a, b, c, e, f, g: ((a * e)**2 + (b * f)**2 + (c * g)**2)**0.5\n",
        "print(\"incerteza_alpha:\",calcular_incerteza_alpha(valor_da_derivada_deltaL,valor_da_derivada_Lo, valor_da_derivada_deltaT,incerteza_deltaL,incerteza_deltaLo,incerteza_deltaT))\n",
        "\n",
        "incerteza_temperatura = lambda a, b,: ((a**2 + b**2))**0.5\n",
        "print(\"incerteza temperatura\", incerteza_temperatura(incerteza_To,incerteza_Tf))\n",
        "\n",
        "erro_percentual = lambda a,b: (abs(a - b/b)*100)\n",
        "print(\"erro percentual:\", erro_percentual(alpha, alpha_teorico))"
      ],
      "metadata": {
        "colab": {
          "base_uri": "https://localhost:8080/"
        },
        "id": "TEKAccI2XAsG",
        "outputId": "c8bf6723-8d35-4a36-de42-4a89ec7fe818"
      },
      "execution_count": 69,
      "outputs": [
        {
          "output_type": "stream",
          "name": "stdout",
          "text": [
            "incerteza_alpha: 2.57320974149892e-6\n",
            "incerteza temperatura 0.223606797749979\n",
            "erro percentual: 99.9472727272727\n"
          ]
        }
      ]
    }
  ]
}