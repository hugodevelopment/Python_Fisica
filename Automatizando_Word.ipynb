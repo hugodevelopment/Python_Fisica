{
  "nbformat": 4,
  "nbformat_minor": 0,
  "metadata": {
    "colab": {
      "provenance": []
    },
    "kernelspec": {
      "name": "python3",
      "display_name": "Python 3"
    },
    "language_info": {
      "name": "python"
    }
  },
  "cells": [
    {
      "cell_type": "code",
      "source": [
        "pip install python-docx\n"
      ],
      "metadata": {
        "colab": {
          "base_uri": "https://localhost:8080/"
        },
        "id": "uFh38QHWsu3v",
        "outputId": "59425bfd-0688-44f5-b9c0-02342adb9464"
      },
      "execution_count": null,
      "outputs": [
        {
          "output_type": "stream",
          "name": "stdout",
          "text": [
            "Collecting python-docx\n",
            "  Downloading python-docx-0.8.11.tar.gz (5.6 MB)\n",
            "\u001b[2K     \u001b[90m━━━━━━━━━━━━━━━━━━━━━━━━━━━━━━━━━━━━━━━━\u001b[0m \u001b[32m5.6/5.6 MB\u001b[0m \u001b[31m36.6 MB/s\u001b[0m eta \u001b[36m0:00:00\u001b[0m\n",
            "\u001b[?25h  Preparing metadata (setup.py) ... \u001b[?25l\u001b[?25hdone\n",
            "Requirement already satisfied: lxml>=2.3.2 in /usr/local/lib/python3.10/dist-packages (from python-docx) (4.9.3)\n",
            "Building wheels for collected packages: python-docx\n",
            "  Building wheel for python-docx (setup.py) ... \u001b[?25l\u001b[?25hdone\n",
            "  Created wheel for python-docx: filename=python_docx-0.8.11-py3-none-any.whl size=184487 sha256=a0bccba49092c8d4dd4ce2b230726b49daaa0765dfb797231b2e55b79008cf41\n",
            "  Stored in directory: /root/.cache/pip/wheels/80/27/06/837436d4c3bd989b957a91679966f207bfd71d358d63a8194d\n",
            "Successfully built python-docx\n",
            "Installing collected packages: python-docx\n",
            "Successfully installed python-docx-0.8.11\n"
          ]
        }
      ]
    },
    {
      "cell_type": "code",
      "execution_count": null,
      "metadata": {
        "colab": {
          "base_uri": "https://localhost:8080/"
        },
        "id": "cYllfXGwsldy",
        "outputId": "e495b4e8-48e0-43a6-b870-344a7a744ee7"
      },
      "outputs": [
        {
          "output_type": "stream",
          "name": "stdout",
          "text": [
            "Relatório criado com sucesso!\n"
          ]
        }
      ],
      "source": [
        "from docx import Document\n",
        "\n",
        "# Crie um novo documento em branco\n",
        "doc = Document()\n",
        "\n",
        "# Preencha o cabeçalho do relatório\n",
        "doc.add_heading('Relatório de Física', 0)\n",
        "\n",
        "# Preencha o título, data e autor\n",
        "titulo = \"Análise de Dilatação\"\n",
        "data = \"18 de setembro de 2023\"\n",
        "autor = \"Seu Nome\"\n",
        "doc.add_paragraph(f\"Título: {titulo}\")\n",
        "doc.add_paragraph(f\"Data: {data}\")\n",
        "doc.add_paragraph(f\"Autor: {autor}\")\n",
        "\n",
        "# Adicione a introdução\n",
        "doc.add_heading('Introdução', level=1)\n",
        "doc.add_paragraph(\"Neste relatório, apresentaremos os resultados da nossa análise.\")\n",
        "\n",
        "# Adicione os resultados\n",
        "doc.add_heading('Resultados', level=1)\n",
        "resultados = [\"Resultado 1: Valor 10\", \"Resultado 2: Valor 34\", \"Resultado 3: Valor 3\"]\n",
        "for resultado in resultados:\n",
        "    doc.add_paragraph(resultado)\n",
        "\n",
        "# Adicione a conclusão\n",
        "doc.add_heading('Conclusão', level=1)\n",
        "conclusao = \"Com base nos resultados obtidos, podemos concluir que a dilatação ocorreu de acordo com as leis da física.\"\n",
        "doc.add_paragraph(conclusao)\n",
        "\n",
        "# Salve o documento em um arquivo\n",
        "doc.save('relatorio_fisica2.docx')\n",
        "\n",
        "print(\"Relatório criado com sucesso!\")\n"
      ]
    },
    {
      "cell_type": "code",
      "source": [
        "import docx\n",
        "\n",
        "\n",
        "\n",
        "# Instancia o documento\n",
        "document = Document()\n",
        "\n",
        "# Adiciona o titulo do documento com document Title\n",
        "document.add_heading('Document Title', 0)\n",
        "\n",
        "# Criando o paragráfo e estilizando\n",
        "p = document.add_paragraph('A plain paragraph having some ')\n",
        "p.add_run('bold').bold = True\n",
        "p.add_run(' and some ')\n",
        "p.add_run('italic.').italic = True\n",
        "\n",
        "# instanciando o titulo e paragrafos\n",
        "document.add_heading('Heading, level 1', level=1)\n",
        "document.add_paragraph('Intense quote', style='Intense Quote')\n",
        "document.add_paragraph(\n",
        "    'first item in unordered list', style='List Bullet'\n",
        ")\n",
        "document.add_paragraph(\n",
        "    'first item in ordered list', style='List Number'\n",
        ")\n",
        "\n",
        "# adicionando uma figura\n",
        "# document.add_picture('monty-truth.png', width=Inches(1.25))\n",
        "\n",
        "# criando uma tupla com informações\n",
        "records = (\n",
        "    (3, '101', 'Spam'),\n",
        "    (7, '422', 'Eggs'),\n",
        "    (4, '631', 'Spam, spam, eggs, and spam')\n",
        ")\n",
        "\n",
        "# criando uma tabela instanciando o documento com 1 linha e 3 colunas\n",
        "table = document.add_table(rows=1, cols=3)\n",
        "# criando celulas a partir da 1º posição da linha\n",
        "row = table.rows[0].cells\n",
        "# criando as 3 colunas sendo a 1º qty, a 2º id e 3º desc\n",
        "row[0].text = 'Qtd'\n",
        "row[1].text = 'Id'\n",
        "row[2].text = 'Desc'\n",
        "# para cada coluna, será preenchido os valores de records\n",
        "for qty, id, desc in records:\n",
        "    # preenche para cada linha\n",
        "    row_cells = table.add_row().cells\n",
        "    # com qty está em numero e preciso transforma em string\n",
        "    row_cells[0].text = id\n",
        "    row_cells[1].text = str(qty)\n",
        "    row_cells[2].text = desc\n",
        "\n",
        "# quebra de pagina\n",
        "document.add_page_break()\n",
        "# salvando\n",
        "document.save('demo3.docx')"
      ],
      "metadata": {
        "id": "xwJoPpt6GuGH"
      },
      "execution_count": null,
      "outputs": []
    },
    {
      "cell_type": "code",
      "source": [
        "\n",
        "from docx import Document\n",
        "\n",
        "# criando uma função para criar uma tabela\n",
        "def create_table(document, colunas, tupla):\n",
        "    # Cria a tabela com o número de colunas especificado\n",
        "    table = document.add_table(rows=1, cols=colunas)\n",
        "\n",
        "    # Cria o cabeçalho da tabela\n",
        "    hdr_cells = table.rows[0].cells\n",
        "    for i in range(colunas):\n",
        "        hdr_cells[i].text = f'Coluna {i+1}'\n",
        "\n",
        "    # Adiciona os registros da tupla à tabela\n",
        "    for registro in tupla:\n",
        "        row_cells = table.add_row().cells\n",
        "        for i in range(colunas):\n",
        "            row_cells[i].text = str(registro[i])\n",
        "            print(row_cells[i].text)\n",
        "\n",
        "# Exemplo de uso\n",
        "document = Document()\n",
        "registros = [(1, 2, 3), (4, 5, 6), (7, 8, 9)]\n",
        "create_table(document, 3, registros)\n",
        "document.save('tabela.docx')\n"
      ],
      "metadata": {
        "colab": {
          "base_uri": "https://localhost:8080/"
        },
        "id": "Tqke1JMIe79x",
        "outputId": "fb1e8efe-bd47-49c1-b91e-fe4f5fa3aa90"
      },
      "execution_count": null,
      "outputs": [
        {
          "output_type": "stream",
          "name": "stdout",
          "text": [
            "(<docx.table._Cell object at 0x7a099115ab60>, <docx.table._Cell object at 0x7a0991159510>, <docx.table._Cell object at 0x7a099115a860>)\n",
            "1\n",
            "2\n",
            "3\n",
            "(<docx.table._Cell object at 0x7a0991159060>, <docx.table._Cell object at 0x7a0991158b80>, <docx.table._Cell object at 0x7a099115a770>)\n",
            "4\n",
            "5\n",
            "6\n",
            "(<docx.table._Cell object at 0x7a099115ad40>, <docx.table._Cell object at 0x7a099115b7f0>, <docx.table._Cell object at 0x7a099115b880>)\n",
            "7\n",
            "8\n",
            "9\n"
          ]
        }
      ]
    }
  ]
}