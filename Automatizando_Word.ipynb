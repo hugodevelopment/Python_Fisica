{
  "nbformat": 4,
  "nbformat_minor": 0,
  "metadata": {
    "colab": {
      "provenance": []
    },
    "kernelspec": {
      "name": "python3",
      "display_name": "Python 3"
    },
    "language_info": {
      "name": "python"
    }
  },
  "cells": [
    {
      "cell_type": "code",
      "source": [
        "pip install python-docx\n"
      ],
      "metadata": {
        "colab": {
          "base_uri": "https://localhost:8080/"
        },
        "id": "uFh38QHWsu3v",
        "outputId": "d08aacd9-aa3a-423f-b0b8-2a2fc1640a5d"
      },
      "execution_count": null,
      "outputs": [
        {
          "output_type": "stream",
          "name": "stdout",
          "text": [
            "Collecting python-docx\n",
            "  Downloading python-docx-0.8.11.tar.gz (5.6 MB)\n",
            "\u001b[2K     \u001b[90m━━━━━━━━━━━━━━━━━━━━━━━━━━━━━━━━━━━━━━━━\u001b[0m \u001b[32m5.6/5.6 MB\u001b[0m \u001b[31m34.6 MB/s\u001b[0m eta \u001b[36m0:00:00\u001b[0m\n",
            "\u001b[?25h  Preparing metadata (setup.py) ... \u001b[?25l\u001b[?25hdone\n",
            "Requirement already satisfied: lxml>=2.3.2 in /usr/local/lib/python3.10/dist-packages (from python-docx) (4.9.3)\n",
            "Building wheels for collected packages: python-docx\n",
            "  Building wheel for python-docx (setup.py) ... \u001b[?25l\u001b[?25hdone\n",
            "  Created wheel for python-docx: filename=python_docx-0.8.11-py3-none-any.whl size=184487 sha256=85bb8bad20c69785cacf0f092ebb453664df9a759ce26ceb5be0f1fb80e0adef\n",
            "  Stored in directory: /root/.cache/pip/wheels/80/27/06/837436d4c3bd989b957a91679966f207bfd71d358d63a8194d\n",
            "Successfully built python-docx\n",
            "Installing collected packages: python-docx\n",
            "Successfully installed python-docx-0.8.11\n"
          ]
        }
      ]
    },
    {
      "cell_type": "code",
      "execution_count": null,
      "metadata": {
        "colab": {
          "base_uri": "https://localhost:8080/"
        },
        "id": "cYllfXGwsldy",
        "outputId": "c9747d77-a6d0-4d54-bb85-0b2094af8ebd"
      },
      "outputs": [
        {
          "output_type": "stream",
          "name": "stdout",
          "text": [
            "Relatório criado com sucesso!\n"
          ]
        }
      ],
      "source": [
        "from docx import Document\n",
        "\n",
        "# Crie um novo documento em branco\n",
        "doc = Document()\n",
        "\n",
        "# Preencha o cabeçalho do relatório\n",
        "doc.add_heading('Relatório de Física', 0)\n",
        "\n",
        "# Preencha o título, data e autor\n",
        "titulo = \"Análise de Dilatação\"\n",
        "data = \"18 de setembro de 2023\"\n",
        "autor = \"Seu Nome\"\n",
        "doc.add_paragraph(f\"Título: {titulo}\")\n",
        "doc.add_paragraph(f\"Data: {data}\")\n",
        "doc.add_paragraph(f\"Autor: {autor}\")\n",
        "\n",
        "# Adicione a introdução\n",
        "doc.add_heading('Introdução', level=1)\n",
        "doc.add_paragraph(\"Neste relatório, apresentaremos os resultados da nossa análise.\")\n",
        "\n",
        "# Adicione os resultados\n",
        "doc.add_heading('Resultados', level=1)\n",
        "resultados = [\"Resultado 1: Valor 1\", \"Resultado 2: Valor 2\", \"Resultado 3: Valor 3\"]\n",
        "for resultado in resultados:\n",
        "    doc.add_paragraph(resultado)\n",
        "\n",
        "# Adicione a conclusão\n",
        "doc.add_heading('Conclusão', level=1)\n",
        "conclusao = \"Com base nos resultados obtidos, podemos concluir que a dilatação ocorreu de acordo com as leis da física.\"\n",
        "doc.add_paragraph(conclusao)\n",
        "\n",
        "# Salve o documento em um arquivo\n",
        "doc.save('relatorio_fisica.docx')\n",
        "\n",
        "print(\"Relatório criado com sucesso!\")\n"
      ]
    }
  ]
}