{
  "cells": [
    {
      "cell_type": "code",
      "execution_count": null,
      "metadata": {
        "colab": {
          "base_uri": "https://localhost:8080/"
        },
        "id": "uFh38QHWsu3v",
        "outputId": "59425bfd-0688-44f5-b9c0-02342adb9464"
      },
      "outputs": [
        {
          "name": "stdout",
          "output_type": "stream",
          "text": [
            "Collecting python-docx\n",
            "  Downloading python-docx-0.8.11.tar.gz (5.6 MB)\n",
            "\u001b[2K     \u001b[90m━━━━━━━━━━━━━━━━━━━━━━━━━━━━━━━━━━━━━━━━\u001b[0m \u001b[32m5.6/5.6 MB\u001b[0m \u001b[31m36.6 MB/s\u001b[0m eta \u001b[36m0:00:00\u001b[0m\n",
            "\u001b[?25h  Preparing metadata (setup.py) ... \u001b[?25l\u001b[?25hdone\n",
            "Requirement already satisfied: lxml>=2.3.2 in /usr/local/lib/python3.10/dist-packages (from python-docx) (4.9.3)\n",
            "Building wheels for collected packages: python-docx\n",
            "  Building wheel for python-docx (setup.py) ... \u001b[?25l\u001b[?25hdone\n",
            "  Created wheel for python-docx: filename=python_docx-0.8.11-py3-none-any.whl size=184487 sha256=a0bccba49092c8d4dd4ce2b230726b49daaa0765dfb797231b2e55b79008cf41\n",
            "  Stored in directory: /root/.cache/pip/wheels/80/27/06/837436d4c3bd989b957a91679966f207bfd71d358d63a8194d\n",
            "Successfully built python-docx\n",
            "Installing collected packages: python-docx\n",
            "Successfully installed python-docx-0.8.11\n"
          ]
        }
      ],
      "source": [
        "pip install python-docx\n"
      ]
    },
    {
      "cell_type": "code",
      "execution_count": null,
      "metadata": {
        "colab": {
          "base_uri": "https://localhost:8080/"
        },
        "id": "cYllfXGwsldy",
        "outputId": "e495b4e8-48e0-43a6-b870-344a7a744ee7"
      },
      "outputs": [
        {
          "name": "stdout",
          "output_type": "stream",
          "text": [
            "Relatório criado com sucesso!\n"
          ]
        }
      ],
      "source": [
        "from docx import Document\n",
        "\n",
        "# Crie um novo documento em branco\n",
        "doc = Document()\n",
        "\n",
        "# Preencha o cabeçalho do relatório\n",
        "doc.add_heading('Relatório de Física', 0)\n",
        "\n",
        "# Preencha o título, data e autor\n",
        "titulo = \"Análise de Dilatação\"\n",
        "data = \"18 de setembro de 2023\"\n",
        "autor = \"Seu Nome\"\n",
        "doc.add_paragraph(f\"Título: {titulo}\")\n",
        "doc.add_paragraph(f\"Data: {data}\")\n",
        "doc.add_paragraph(f\"Autor: {autor}\")\n",
        "\n",
        "# Adicione a introdução\n",
        "doc.add_heading('Introdução', level=1)\n",
        "doc.add_paragraph(\"Neste relatório, apresentaremos os resultados da nossa análise.\")\n",
        "\n",
        "# Adicione os resultados\n",
        "doc.add_heading('Resultados', level=1)\n",
        "resultados = [\"Resultado 1: Valor 10\", \"Resultado 2: Valor 34\", \"Resultado 3: Valor 3\"]\n",
        "for resultado in resultados:\n",
        "    doc.add_paragraph(resultado)\n",
        "\n",
        "# Adicione a conclusão\n",
        "doc.add_heading('Conclusão', level=1)\n",
        "conclusao = \"Com base nos resultados obtidos, podemos concluir que a dilatação ocorreu de acordo com as leis da física.\"\n",
        "doc.add_paragraph(conclusao)\n",
        "\n",
        "# Salve o documento em um arquivo\n",
        "doc.save('relatorio_fisica2.docx')\n",
        "\n",
        "print(\"Relatório criado com sucesso!\")\n"
      ]
    },
    {
      "cell_type": "code",
      "execution_count": null,
      "metadata": {
        "id": "xwJoPpt6GuGH"
      },
      "outputs": [],
      "source": [
        "import docx\n",
        "\n",
        "\n",
        "\n",
        "# Instancia o documento\n",
        "document = Document()\n",
        "\n",
        "# Adiciona o titulo do documento com document Title\n",
        "document.add_heading('Document Title', 0)\n",
        "\n",
        "# Criando o paragráfo e estilizando\n",
        "p = document.add_paragraph('A plain paragraph having some ')\n",
        "p.add_run('bold').bold = True\n",
        "p.add_run(' and some ')\n",
        "p.add_run('italic.').italic = True\n",
        "\n",
        "# instanciando o titulo e paragrafos\n",
        "document.add_heading('Heading, level 1', level=1)\n",
        "document.add_paragraph('Intense quote', style='Intense Quote')\n",
        "document.add_paragraph(\n",
        "    'first item in unordered list', style='List Bullet'\n",
        ")\n",
        "document.add_paragraph(\n",
        "    'first item in ordered list', style='List Number'\n",
        ")\n",
        "\n",
        "# adicionando uma figura\n",
        "# document.add_picture('monty-truth.png', width=Inches(1.25))\n",
        "\n",
        "# criando uma tupla com informações\n",
        "records = (\n",
        "    (3, '101', 'Spam'),\n",
        "    (7, '422', 'Eggs'),\n",
        "    (4, '631', 'Spam, spam, eggs, and spam')\n",
        ")\n",
        "\n",
        "# criando uma tabela instanciando o documento com 1 linha e 3 colunas\n",
        "table = document.add_table(rows=1, cols=3)\n",
        "# criando celulas a partir da 1º posição da linha\n",
        "row = table.rows[0].cells\n",
        "# criando as 3 colunas sendo a 1º qty, a 2º id e 3º desc\n",
        "row[0].text = 'Qtd'\n",
        "row[1].text = 'Id'\n",
        "row[2].text = 'Desc'\n",
        "# para cada coluna, será preenchido os valores de records\n",
        "for qty, id, desc in records:\n",
        "    # preenche para cada linha\n",
        "    row_cells = table.add_row().cells\n",
        "    # com qty está em numero e preciso transforma em string\n",
        "    row_cells[0].text = id\n",
        "    row_cells[1].text = str(qty)\n",
        "    row_cells[2].text = desc\n",
        "\n",
        "# quebra de pagina\n",
        "document.add_page_break()\n",
        "# salvando\n",
        "document.save('demo3.docx')"
      ]
    },
    {
      "cell_type": "code",
      "execution_count": 1,
      "metadata": {
        "colab": {
          "base_uri": "https://localhost:8080/"
        },
        "id": "Tqke1JMIe79x",
        "outputId": "fb1e8efe-bd47-49c1-b91e-fe4f5fa3aa90"
      },
      "outputs": [
        {
          "ename": "ModuleNotFoundError",
          "evalue": "No module named 'docx'",
          "output_type": "error",
          "traceback": [
            "\u001b[1;31m---------------------------------------------------------------------------\u001b[0m",
            "\u001b[1;31mModuleNotFoundError\u001b[0m                       Traceback (most recent call last)",
            "\u001b[1;32mc:\\Users\\T-Gamer\\Documents\\Desenvolvimento 2023\\Python_Física\\Automatizando_Word.ipynb Cell 4\u001b[0m line \u001b[0;36m<cell line: 1>\u001b[1;34m()\u001b[0m\n\u001b[1;32m----> <a href='vscode-notebook-cell:/c%3A/Users/T-Gamer/Documents/Desenvolvimento%202023/Python_F%C3%ADsica/Automatizando_Word.ipynb#W3sZmlsZQ%3D%3D?line=0'>1</a>\u001b[0m \u001b[39mfrom\u001b[39;00m \u001b[39mdocx\u001b[39;00m \u001b[39mimport\u001b[39;00m Document\n\u001b[0;32m      <a href='vscode-notebook-cell:/c%3A/Users/T-Gamer/Documents/Desenvolvimento%202023/Python_F%C3%ADsica/Automatizando_Word.ipynb#W3sZmlsZQ%3D%3D?line=2'>3</a>\u001b[0m \u001b[39m# criando uma função para criar uma tabela\u001b[39;00m\n\u001b[0;32m      <a href='vscode-notebook-cell:/c%3A/Users/T-Gamer/Documents/Desenvolvimento%202023/Python_F%C3%ADsica/Automatizando_Word.ipynb#W3sZmlsZQ%3D%3D?line=3'>4</a>\u001b[0m \u001b[39mdef\u001b[39;00m \u001b[39mcreate_table\u001b[39m(document, colunas, tupla):\n\u001b[0;32m      <a href='vscode-notebook-cell:/c%3A/Users/T-Gamer/Documents/Desenvolvimento%202023/Python_F%C3%ADsica/Automatizando_Word.ipynb#W3sZmlsZQ%3D%3D?line=4'>5</a>\u001b[0m     \u001b[39m# Cria a tabela com o número de colunas especificado\u001b[39;00m\n",
            "\u001b[1;31mModuleNotFoundError\u001b[0m: No module named 'docx'"
          ]
        }
      ],
      "source": [
        "\n",
        "from docx import Document\n",
        "\n",
        "# criando uma função para criar uma tabela\n",
        "def create_table(document, colunas, tupla):\n",
        "    # Cria a tabela com o número de colunas especificado\n",
        "    table = document.add_table(rows=1, cols=colunas)\n",
        "\n",
        "    # Cria o cabeçalho da tabela\n",
        "    hdr_cells = table.rows[0].cells\n",
        "    for i in range(colunas):\n",
        "        hdr_cells[i].text = f'Coluna {i+1}'\n",
        "\n",
        "    # Adiciona os registros da tupla à tabela\n",
        "    for registro in tupla:\n",
        "        row_cells = table.add_row().cells\n",
        "        for i in range(colunas):\n",
        "            row_cells[i].text = str(registro[i])\n",
        "            print(row_cells[i].text)\n",
        "\n",
        "# Exemplo de uso\n",
        "document = Document()\n",
        "registros = [(1, 2, 3), (4, 5, 6), (7, 8, 9)]\n",
        "create_table(document, 3, registros)\n",
        "document.save('tabela.docx')\n"
      ]
    }
  ],
  "metadata": {
    "colab": {
      "provenance": []
    },
    "kernelspec": {
      "display_name": "Python 3",
      "name": "python3"
    },
    "language_info": {
      "codemirror_mode": {
        "name": "ipython",
        "version": 3
      },
      "file_extension": ".py",
      "mimetype": "text/x-python",
      "name": "python",
      "nbconvert_exporter": "python",
      "pygments_lexer": "ipython3",
      "version": "3.9.5"
    }
  },
  "nbformat": 4,
  "nbformat_minor": 0
}
